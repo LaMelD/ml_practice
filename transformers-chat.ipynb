{
 "cells": [
  {
   "cell_type": "code",
   "execution_count": 5,
   "id": "9d96a631",
   "metadata": {},
   "outputs": [
    {
     "name": "stdout",
     "output_type": "stream",
     "text": [
      "Note: you may need to restart the kernel to use updated packages.\n"
     ]
    }
   ],
   "source": [
    "%pip install python-dotenv ollama langchain-community langchain-ollama -qU"
   ]
  },
  {
   "cell_type": "code",
   "execution_count": 2,
   "id": "3a1c4a6e",
   "metadata": {},
   "outputs": [],
   "source": [
    "from langchain_ollama import ChatOllama\n",
    "\n",
    "llm = ChatOllama(model=\"gemma3:4b\")"
   ]
  },
  {
   "cell_type": "code",
   "execution_count": 3,
   "id": "318dc897",
   "metadata": {},
   "outputs": [],
   "source": [
    "ai_message = llm.invoke(\"인프런의 AI 강의가 뭐가 있나요?\")"
   ]
  },
  {
   "cell_type": "code",
   "execution_count": 4,
   "id": "b09af03f",
   "metadata": {},
   "outputs": [
    {
     "data": {
      "text/plain": [
       "'인프런에는 다양한 AI 강의가 제공되고 있으며, 꾸준히 업데이트되고 있습니다. 현재 인기 있는 AI 강의는 다음과 같습니다.\\n\\n**1. AI 기본 및 활용:**\\n\\n*   **AI 네이티브 기업 만들기:** AI 기술을 활용하여 기업의 디지털 전환을 이끌어내는 방법을 다룹니다.\\n*   **초보자를 위한 AI 마스터클래스:** AI 기초 개념부터 머신러닝, 딥러닝, 자연어 처리 등 핵심 내용을 쉽게 이해할 수 있도록 구성되었습니다.\\n*   **AI 트렌드 분석 & 핵심 기술 완벽 정복:** AI 시장의 최신 트렌드를 파악하고, 필요한 핵심 기술을 습득하는 데 초점을 맞춘 강의입니다.\\n*   **AI 기반 자동화 솔루션 구축:** RPA, AI 기반 자동화 솔루션을 구축하는 방법을 실습 중심으로 교육합니다.\\n\\n**2. 딥러닝:**\\n\\n*   **파이토치 딥러닝 입문:** 파이토치 딥러닝 프레임워크를 사용하여 딥러닝 모델을 구축하는 방법을 실습합니다.\\n*   **TensorFlow 딥러닝 입문:** TensorFlow 딥러닝 프레임워크를 사용하여 딥러닝 모델을 구축하는 방법을 실습합니다.\\n*   **혼자 공부하는 딥러닝:** 딥러닝 핵심 개념과 모델을 심도 있게 학습할 수 있는 강의입니다.\\n*   **파이썬 딥러닝 프로젝트:** 파이썬을 활용하여 딥러닝 프로젝트를 진행하는 실습 강의입니다.\\n\\n**3. 자연어 처리:**\\n\\n*   **자연어 처리 완벽 마스터:** 자연어 처리 기술을 심도 있게 학습하고, 실제 프로젝트에 적용할 수 있는 실습 강의입니다.\\n*   **GPT 활용 마스터클래스:** GPT 모델을 활용하여 다양한 자연어 처리 작업을 수행하는 방법을 실습합니다.\\n\\n**4. AI 윤리 및 법규:**\\n\\n*   **AI 윤리 & 법규 완전 정복:** AI 기술 사용과 관련된 윤리적 문제와 법적 규제를 이해하고, 책임 있는 AI 개발 및 활용을 위한 지침을 제공합니다.\\n\\n**5. 기타 AI 관련 강의:**\\n\\n*   **AI 기반 챗봇 개발:** 챗봇을 개발하고 배포하는 방법을 실습합니다.\\n*   **AI 이미지 생성:** Stable Diffusion, Midjourney 등 AI 이미지 생성 모델을 활용하는 방법을 실습합니다.\\n*   **AI 데이터 분석:** AI 모델 학습에 필요한 데이터를 분석하고 가공하는 방법을 실습합니다.\\n\\n**인프런 AI 강의 검색 링크:**\\n\\n*   [https://www.inflearn.com/search/%EC%9E%90%EC%9C%A0](https://www.inflearn.com/search/%EC%9E%90%EC%9C%A0)\\n\\n**팁:**\\n\\n*   인프런 검색창에서 \"AI\", \"머신러닝\", \"딥러닝\", \"자연어 처리\" 등의 키워드를 사용하여 원하는 강의를 검색할 수 있습니다.\\n*   강의 내용, 수강 후기, 강사 정보 등을 꼼꼼히 확인하여 자신에게 맞는 강의를 선택하는 것이 좋습니다.\\n*   인프런에는 무료 강의와 유료 강의가 모두 제공되므로, 예산과 학습 목표에 맞춰 선택할 수 있습니다.\\n\\n궁금한 점이 있다면 언제든지 다시 질문해주세요!'"
      ]
     },
     "execution_count": 4,
     "metadata": {},
     "output_type": "execute_result"
    }
   ],
   "source": [
    "ai_message.content"
   ]
  }
 ],
 "metadata": {
  "kernelspec": {
   "display_name": "ai_practice",
   "language": "python",
   "name": "python3"
  },
  "language_info": {
   "name": "python",
   "version": "3.13.2"
  }
 },
 "nbformat": 4,
 "nbformat_minor": 5
}
